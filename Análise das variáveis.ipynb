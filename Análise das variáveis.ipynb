{
 "cells": [
  {
   "cell_type": "code",
   "execution_count": 77,
   "metadata": {
    "collapsed": true
   },
   "outputs": [],
   "source": [
    "import numpy as np\n",
    "import pandas as pd\n",
    "import matplotlib.pyplot as plt\n",
    "import seaborn as sns"
   ]
  },
  {
   "cell_type": "code",
   "execution_count": 78,
   "metadata": {
    "collapsed": true
   },
   "outputs": [],
   "source": [
    "df = pd.read_csv('/home/dudunene/Downloads/planilha_geral.csv')\n",
    "\n",
    "df.columns = ['Empresa','Trimestre','Receita Liquida','Custos','Lucro/Prejuizo','Despesas operacionais',\n",
    "             'Despesas com vendas','Despesas gerais e administrativas']"
   ]
  },
  {
   "cell_type": "code",
   "execution_count": 79,
   "metadata": {
    "collapsed": true
   },
   "outputs": [],
   "source": [
    "df['Despesas com vendas'] = np.abs(df['Despesas com vendas'])"
   ]
  },
  {
   "cell_type": "code",
   "execution_count": 82,
   "metadata": {
    "collapsed": false
   },
   "outputs": [
    {
     "data": {
      "text/html": [
       "<div>\n",
       "<style scoped>\n",
       "    .dataframe tbody tr th:only-of-type {\n",
       "        vertical-align: middle;\n",
       "    }\n",
       "\n",
       "    .dataframe tbody tr th {\n",
       "        vertical-align: top;\n",
       "    }\n",
       "\n",
       "    .dataframe thead th {\n",
       "        text-align: right;\n",
       "    }\n",
       "</style>\n",
       "<table border=\"1\" class=\"dataframe\">\n",
       "  <thead>\n",
       "    <tr style=\"text-align: right;\">\n",
       "      <th></th>\n",
       "      <th>Empresa</th>\n",
       "      <th>Trimestre</th>\n",
       "      <th>Receita Liquida</th>\n",
       "      <th>Lucro/Prejuizo</th>\n",
       "      <th>Despesas com vendas</th>\n",
       "    </tr>\n",
       "  </thead>\n",
       "  <tbody>\n",
       "    <tr>\n",
       "      <th>0</th>\n",
       "      <td>Americanas</td>\n",
       "      <td>31/03/2016</td>\n",
       "      <td>3933169</td>\n",
       "      <td>-82792</td>\n",
       "      <td>538284</td>\n",
       "    </tr>\n",
       "    <tr>\n",
       "      <th>1</th>\n",
       "      <td>Americanas</td>\n",
       "      <td>30/06/2016</td>\n",
       "      <td>3942930</td>\n",
       "      <td>3539</td>\n",
       "      <td>586699</td>\n",
       "    </tr>\n",
       "    <tr>\n",
       "      <th>2</th>\n",
       "      <td>Americanas</td>\n",
       "      <td>30/09/2016</td>\n",
       "      <td>3966216</td>\n",
       "      <td>-109356</td>\n",
       "      <td>556458</td>\n",
       "    </tr>\n",
       "    <tr>\n",
       "      <th>3</th>\n",
       "      <td>Americanas</td>\n",
       "      <td>31/12/2016</td>\n",
       "      <td>6261197</td>\n",
       "      <td>216437</td>\n",
       "      <td>739738</td>\n",
       "    </tr>\n",
       "    <tr>\n",
       "      <th>4</th>\n",
       "      <td>Americanas</td>\n",
       "      <td>31/03/2017</td>\n",
       "      <td>3570462</td>\n",
       "      <td>-199786</td>\n",
       "      <td>552716</td>\n",
       "    </tr>\n",
       "  </tbody>\n",
       "</table>\n",
       "</div>"
      ],
      "text/plain": [
       "      Empresa   Trimestre  Receita Liquida  Lucro/Prejuizo  \\\n",
       "0  Americanas  31/03/2016          3933169          -82792   \n",
       "1  Americanas  30/06/2016          3942930            3539   \n",
       "2  Americanas  30/09/2016          3966216         -109356   \n",
       "3  Americanas  31/12/2016          6261197          216437   \n",
       "4  Americanas  31/03/2017          3570462         -199786   \n",
       "\n",
       "   Despesas com vendas  \n",
       "0               538284  \n",
       "1               586699  \n",
       "2               556458  \n",
       "3               739738  \n",
       "4               552716  "
      ]
     },
     "execution_count": 82,
     "metadata": {},
     "output_type": "execute_result"
    }
   ],
   "source": [
    "df[['Empresa','Trimestre','Receita Liquida','Lucro/Prejuizo','Despesas com vendas']].head()"
   ]
  },
  {
   "cell_type": "code",
   "execution_count": 87,
   "metadata": {
    "collapsed": false
   },
   "outputs": [
    {
     "name": "stdout",
     "output_type": "stream",
     "text": [
      "Média das receitas líquidas: 2236679.6\n",
      "Média dos lucros/prejuízos: 34341.8\n",
      "Média das despesas com vendas: 479143.0\n"
     ]
    }
   ],
   "source": [
    "# médias\n",
    "\n",
    "print('Média das receitas líquidas: {:.1f}'.format(np.mean(df['Receita Liquida'])))\n",
    "print('Média dos lucros/prejuízos: {:.1f}'.format(np.mean(df['Lucro/Prejuizo'])))\n",
    "print('Média das despesas com vendas: {:.1f}'.format(np.mean(df['Despesas com vendas'])))"
   ]
  },
  {
   "cell_type": "code",
   "execution_count": 103,
   "metadata": {
    "collapsed": false
   },
   "outputs": [
    {
     "name": "stdout",
     "output_type": "stream",
     "text": [
      "Para Receita Liquida: \n",
      "\n",
      "0 percentil: 27702\n",
      "25 percentil: 406189\n",
      "50 percentil: 1615462\n",
      "75 percentil: 3615398\n",
      "100 percentil: 10065793\n",
      "\n",
      "\n",
      "Para Lucro/Prejuizo: \n",
      "\n",
      "0 percentil: -854000\n",
      "25 percentil: -46694\n",
      "50 percentil: 14339\n",
      "75 percentil: 73017\n",
      "100 percentil: 1012149\n",
      "\n",
      "\n",
      "Para Despesas com vendas: \n",
      "\n",
      "0 percentil: 10064\n",
      "25 percentil: 108952\n",
      "50 percentil: 384808\n",
      "75 percentil: 693581\n",
      "100 percentil: 1992000\n",
      "\n",
      "\n"
     ]
    }
   ],
   "source": [
    "#percentis\n",
    "\n",
    "percentis = np.arange(0,125,25)\n",
    "    \n",
    "for variavel in ['Receita Liquida','Lucro/Prejuizo','Despesas com vendas']:\n",
    "    \n",
    "    print('Para {}: \\n'.format(variavel))\n",
    "    \n",
    "    for percentil in percentis:\n",
    "        \n",
    "        print('{} percentil: {:.0f}'.format(percentil, np.trunc(np.percentile(df[variavel],percentil))))\n",
    "    \n",
    "    print('\\n')"
   ]
  },
  {
   "cell_type": "code",
   "execution_count": 114,
   "metadata": {
    "collapsed": false,
    "scrolled": true
   },
   "outputs": [
    {
     "name": "stdout",
     "output_type": "stream",
     "text": [
      "Coeficiente de variância para Receita Liquida: 99.41% \n",
      "\n",
      "Coeficiente de variância para Lucro/Prejuizo: 533.67% \n",
      "\n",
      "Coeficiente de variância para Despesas com vendas: 91.09% \n",
      "\n"
     ]
    }
   ],
   "source": [
    "# coeficientes de variância globais\n",
    "\n",
    "for variavel in ['Receita Liquida','Lucro/Prejuizo','Despesas com vendas']:\n",
    "    \n",
    "    print('Coeficiente de variância para {}: {:.2f}% \\n'.format(\n",
    "            variavel,np.std(df[variavel])/np.mean(df[variavel])*100))\n"
   ]
  },
  {
   "cell_type": "code",
   "execution_count": 123,
   "metadata": {
    "collapsed": false
   },
   "outputs": [
    {
     "name": "stdout",
     "output_type": "stream",
     "text": [
      "\n",
      "\n",
      "Coeficientes de variação locais para Receita Liquida: \n",
      "\n",
      "Coeficiente de variação local para Americanas : 23.56% \n",
      "Coeficiente de variação local para Via Varejo : 19.22% \n",
      "Coeficiente de variação local para Magazineluiza : 46.49% \n",
      "Coeficiente de variação local para B2W : 35.77% \n",
      "Coeficiente de variação local para Lojas Renner : 29.23% \n",
      "Coeficiente de variação local para Guararapes : 21.40% \n",
      "Coeficiente de variação local para Marisa : 19.51% \n",
      "Coeficiente de variação local para Arezzo : 25.00% \n",
      "Coeficiente de variação local para Saraiva : 57.65% \n",
      "Coeficiente de variação local para Grazziotion : 19.82% \n",
      "\n",
      "Coeficiente de variação local médio: 29.76%\n",
      "\n",
      "\n",
      "Coeficientes de variação locais para Despesas com vendas: \n",
      "\n",
      "Coeficiente de variação local para Americanas : 31.26% \n",
      "Coeficiente de variação local para Via Varejo : 16.89% \n",
      "Coeficiente de variação local para Magazineluiza : 44.15% \n",
      "Coeficiente de variação local para B2W : 37.94% \n",
      "Coeficiente de variação local para Lojas Renner : 26.20% \n",
      "Coeficiente de variação local para Guararapes : 19.08% \n",
      "Coeficiente de variação local para Marisa : 21.78% \n",
      "Coeficiente de variação local para Arezzo : 24.06% \n",
      "Coeficiente de variação local para Saraiva : 51.74% \n",
      "Coeficiente de variação local para Grazziotion : 11.76% \n",
      "\n",
      "Coeficiente de variação local médio: 28.49%\n",
      "\n",
      "\n",
      "Coeficientes de variação locais para Lucro/Prejuizo: \n",
      "\n",
      "Coeficiente de variação local para Americanas : 316.50% \n",
      "Coeficiente de variação local para Via Varejo : -915.51% \n",
      "Coeficiente de variação local para Magazineluiza : 83.95% \n",
      "Coeficiente de variação local para B2W : -90.78% \n",
      "Coeficiente de variação local para Lojas Renner : 85.06% \n",
      "Coeficiente de variação local para Guararapes : 291.27% \n",
      "Coeficiente de variação local para Marisa : -192.71% \n",
      "Coeficiente de variação local para Arezzo : 94.30% \n",
      "Coeficiente de variação local para Saraiva : -116.57% \n",
      "Coeficiente de variação local para Grazziotion : 101.15% \n",
      "\n",
      "Coeficiente de variação local médio: -34.33%\n"
     ]
    }
   ],
   "source": [
    "# média dos coeficientes de variância locais (de cada empresa):\n",
    "\n",
    "\n",
    "for coluna in ['Receita Liquida', 'Despesas com vendas','Lucro/Prejuizo']:\n",
    "    \n",
    "    coef_list = []\n",
    "    \n",
    "    i = 0\n",
    "\n",
    "    f = 20\n",
    "    \n",
    "    print('\\n\\nCoeficientes de variação locais para {}: \\n'.format(coluna))\n",
    "\n",
    "    for c in range(0,10):\n",
    "\n",
    "        fracao_df = df.iloc[i:f,:]\n",
    "\n",
    "        varCoef = np.std(fracao_df[coluna])/np.mean(fracao_df[coluna])\n",
    "\n",
    "        print('Coeficiente de variação local para {} : {:.2f}% '.format(df['Empresa'].unique()[c],varCoef*100))\n",
    "        \n",
    "        coef_list.append(varCoef)\n",
    "\n",
    "        i += 20\n",
    "\n",
    "        f += 20\n",
    "        \n",
    "    print('\\nCoeficiente de variação local médio: {:.2f}%'.format(np.mean(coef_list)*100))"
   ]
  },
  {
   "cell_type": "code",
   "execution_count": 152,
   "metadata": {
    "collapsed": false
   },
   "outputs": [
    {
     "data": {
      "image/png": "[encoded data removed]",
      "text/plain": [
       "<Figure size 1440x720 with 1 Axes>"
      ]
     },
     "metadata": {},
     "output_type": "display_data"
    }
   ],
   "source": [
    "sns.set_style('whitegrid')\n",
    "\n",
    "sns.set_palette('pastel')\n",
    "\n",
    "plt.figure(figsize=(20,10))\n",
    "\n",
    "sns.boxplot(df['Despesas com vendas'],linewidth=2.5, saturation=0.6, width=0.5, color='lightgreen')\n",
    "\n",
    "\n",
    "plt.show()"
   ]
  },
  {
   "cell_type": "code",
   "execution_count": 154,
   "metadata": {
    "collapsed": false
   },
   "outputs": [
    {
     "data": {
      "image/png": "[encoded data removed]",
      "text/plain": [
       "<Figure size 1440x720 with 1 Axes>"
      ]
     },
     "metadata": {},
     "output_type": "display_data"
    }
   ],
   "source": [
    "plt.figure(figsize=(20,10))\n",
    "\n",
    "sns.boxplot(df['Receita Liquida'],linewidth=2.5, saturation=1, width=0.5)\n",
    "\n",
    "plt.show()"
   ]
  },
  {
   "cell_type": "code",
   "execution_count": 158,
   "metadata": {
    "collapsed": false,
    "scrolled": true
   },
   "outputs": [
    {
     "data": {
      "image/png": "[encoded data removed]",
      "text/plain": [
       "<Figure size 1080x360 with 1 Axes>"
      ]
     },
     "metadata": {},
     "output_type": "display_data"
    }
   ],
   "source": [
    "sns.set_palette('dark')\n",
    "\n",
    "plt.figure(figsize=(15,5))\n",
    "\n",
    "sns.distplot(df['Lucro/Prejuizo'], kde=False)\n",
    "\n",
    "plt.show()"
   ]
  }
 ],
 "metadata": {
  "kernelspec": {
   "display_name": "Python 3",
   "language": "python",
   "name": "python3"
  },
  "language_info": {
   "codemirror_mode": {
    "name": "ipython",
    "version": 2
   },
   "file_extension": ".py",
   "mimetype": "text/x-python",
   "name": "python",
   "nbconvert_exporter": "python",
   "pygments_lexer": "ipython2",
   "version": "2.7.13"
  }
 },
 "nbformat": 4,
 "nbformat_minor": 2
}
